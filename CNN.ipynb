{
 "cells": [
  {
   "cell_type": "code",
   "execution_count": 4,
   "metadata": {},
   "outputs": [],
   "source": [
    "import numpy as np\n",
    "import matplotlib.pyplot as plt\n",
    "from keras.datasets import mnist\n",
    "from keras.models import Sequential\n",
    "from keras.layers import Dense\n",
    "from keras.layers import Dropout\n",
    "from keras.layers import Flatten\n",
    "from keras.layers.convolutional import Convolution2D\n",
    "from keras.layers.convolutional import MaxPooling2D\n",
    "from keras.utils import np_utils\n",
    "from keras import backend as K\n",
    "K.set_image_dim_ordering('th')\n",
    "import os,random,cv2"
   ]
  },
  {
   "cell_type": "code",
   "execution_count": 5,
   "metadata": {},
   "outputs": [],
   "source": [
    "import theano\n"
   ]
  },
  {
   "cell_type": "code",
   "execution_count": 9,
   "metadata": {},
   "outputs": [
    {
     "ename": "TypeError",
     "evalue": "'zip' object is not subscriptable",
     "output_type": "error",
     "traceback": [
      "\u001b[0;31m---------------------------------------------------------------------------\u001b[0m",
      "\u001b[0;31mTypeError\u001b[0m                                 Traceback (most recent call last)",
      "\u001b[0;32m<ipython-input-9-cc2f5b4a4266>\u001b[0m in \u001b[0;36m<module>\u001b[0;34m()\u001b[0m\n\u001b[1;32m     20\u001b[0m \u001b[0;34m\u001b[0m\u001b[0m\n\u001b[1;32m     21\u001b[0m \u001b[0;34m\u001b[0m\u001b[0m\n\u001b[0;32m---> 22\u001b[0;31m \u001b[0mtrain_images\u001b[0m \u001b[0;34m=\u001b[0m \u001b[0mdog\u001b[0m\u001b[0;34m[\u001b[0m\u001b[0;34m:\u001b[0m\u001b[0;36m10000\u001b[0m\u001b[0;34m]\u001b[0m \u001b[0;34m+\u001b[0m \u001b[0mcat\u001b[0m\u001b[0;34m[\u001b[0m\u001b[0;34m:\u001b[0m\u001b[0;36m10000\u001b[0m\u001b[0;34m]\u001b[0m\u001b[0;34m\u001b[0m\u001b[0m\n\u001b[0m\u001b[1;32m     23\u001b[0m \u001b[0mrandom\u001b[0m\u001b[0;34m.\u001b[0m\u001b[0mshuffle\u001b[0m\u001b[0;34m(\u001b[0m\u001b[0mtrain_images\u001b[0m\u001b[0;34m)\u001b[0m\u001b[0;34m\u001b[0m\u001b[0m\n\u001b[1;32m     24\u001b[0m \u001b[0ma\u001b[0m\u001b[0;34m=\u001b[0m\u001b[0mzip\u001b[0m\u001b[0;34m(\u001b[0m\u001b[0;34m*\u001b[0m\u001b[0mtrain_images\u001b[0m\u001b[0;34m)\u001b[0m\u001b[0;34m\u001b[0m\u001b[0m\n",
      "\u001b[0;31mTypeError\u001b[0m: 'zip' object is not subscriptable"
     ]
    }
   ],
   "source": [
    "TRAIN_DIR ='train/'\n",
    "TEST_DIR = 'test/'\n",
    "\n",
    "ROWS = 64\n",
    "COLS = 64\n",
    "CHANNELS = 3\n",
    "\n",
    "#train_images = [TRAIN_DIR+i for i in os.listdir(TRAIN_DIR)] # use this for full dataset\n",
    "train_dogs =   [TRAIN_DIR+i for i in os.listdir(TRAIN_DIR) if 'dog' in i]\n",
    "dog_label =['dog' for i in os.listdir(TRAIN_DIR) if 'dog' in i]\n",
    "dog=zip(train_dogs,dog_label)\n",
    "\n",
    "train_cats =   [TRAIN_DIR+i for i in os.listdir(TRAIN_DIR) if 'cat' in i]\n",
    "cat_label =['cat' for i in os.listdir(TRAIN_DIR) if 'cat' in i]\n",
    "cat=zip(train_cats,cat_label)\n",
    "\n",
    "test_images =  [TEST_DIR+i for i in os.listdir(TEST_DIR)]\n",
    "# slice datasets for memory efficiency on Kaggle Kernels, delete if using full dataset\n",
    "\n",
    "\n",
    "\n",
    "train_images = dog[:10000] + cat[:10000]\n",
    "random.shuffle(train_images)\n",
    "a=zip(*train_images)\n",
    "train=a[0]\n",
    "label=a[1]\n",
    "label=np.asarray(label)\n",
    "\n",
    "j=7500\n",
    "my_test=dog[j:j+1000] +cat[j:j+1000]\n",
    "random.shuffle(my_test)\n",
    "b=zip(*my_test)\n",
    "testimage=b[0]\n",
    "testlabel=b[1]\n",
    "testlabel=np.asarray(testlabel)\n",
    "\n",
    "\n",
    "print (train[0],label[0])\n",
    "\n",
    "def read_image(file_path):\n",
    "    img = cv2.imread(file_path, cv2.IMREAD_GRAYSCALE) #cv2.IMREAD_GRAYSCALE\n",
    "    return cv2.resize(img, (ROWS, COLS), interpolation=cv2.INTER_CUBIC)\n",
    "\n",
    "def prep_data(images):\n",
    "    count = len(images)\n",
    "    data = np.ndarray((count, ROWS, COLS), dtype=np.uint8)\n",
    "\n",
    "    for i, image_file in enumerate(images):\n",
    "        image = read_image(image_file)\n",
    "        data[i] = image.T\n",
    "    return data\n",
    "\n",
    "train = prep_data(train)\n",
    "test=prep_data(testimage)\n",
    "print (train.shape,test.shape)\n",
    "train= train.swapaxes(1,2)\n",
    "test=test.swapaxes(1,2)\n",
    "print (train.shape,test.shape)\n"
   ]
  },
  {
   "cell_type": "code",
   "execution_count": 7,
   "metadata": {},
   "outputs": [],
   "source": [
    "seed=7\n",
    "np.random.seed(seed)\n",
    "\n",
    "%matplotlib inline\n",
    "plt.rcParams['figure.figsize'] = (10.0, 8.0) # set default size of plots\n",
    "plt.rcParams['image.interpolation'] = 'nearest'\n",
    "plt.rcParams['image.cmap'] = 'gray'"
   ]
  },
  {
   "cell_type": "code",
   "execution_count": 8,
   "metadata": {},
   "outputs": [
    {
     "name": "stdout",
     "output_type": "stream",
     "text": [
      "dog\n"
     ]
    },
    {
     "data": {
      "image/png": "[encoded data removed]",
      "text/plain": [
       "<matplotlib.figure.Figure at 0x7f5dcee09d10>"
      ]
     },
     "metadata": {},
     "output_type": "display_data"
    }
   ],
   "source": [
    "i=1\n",
    "plt.subplot(221)\n",
    "plt.imshow(train[i],cmap=plt.get_cmap('gray'))\n",
    "print label[i]"
   ]
  },
  {
   "cell_type": "code",
   "execution_count": 9,
   "metadata": {},
   "outputs": [],
   "source": [
    "X_train=train.reshape(train.shape[0],1,64,64).astype('float32')\n",
    "X_test=test.reshape(test.shape[0],1,64,64).astype('float32')"
   ]
  },
  {
   "cell_type": "code",
   "execution_count": 10,
   "metadata": {},
   "outputs": [
    {
     "name": "stdout",
     "output_type": "stream",
     "text": [
      "cat\n",
      "[ 1.  0.]\n"
     ]
    }
   ],
   "source": [
    "x_train=X_train/255\n",
    "x_test=X_test/255\n",
    "\n",
    "b,c=np.unique(label,return_inverse=True)\n",
    "x,y=np.unique(testlabel,return_inverse=True)\n",
    "\n",
    "y_train=np_utils.to_categorical(c)\n",
    "y_test=np_utils.to_categorical(y)\n",
    "j=21\n",
    "print label[j]\n",
    "print y_train[j]\n",
    "num_classes=y_test.shape[1]"
   ]
  },
  {
   "cell_type": "code",
   "execution_count": 11,
   "metadata": {},
   "outputs": [],
   "source": [
    "def network():\n",
    "    model=Sequential()\n",
    "    model.add(Convolution2D(32,5,5,border_mode='valid',input_shape=(1,64,64),activation='relu'))\n",
    "    model.add(MaxPooling2D(pool_size=(2,2)))\n",
    "    model.add(Dropout(0.2))\n",
    "    model.add(Flatten())\n",
    "    model.add(Dense(128,activation='relu'))\n",
    "    model.add(Dense(num_classes,activation='softmax'))\n",
    "    model.compile(loss='categorical_crossentropy',optimizer='adam',metrics=['accuracy'])\n",
    "    return model"
   ]
  },
  {
   "cell_type": "code",
   "execution_count": 12,
   "metadata": {},
   "outputs": [
    {
     "name": "stdout",
     "output_type": "stream",
     "text": [
      "Train on 20000 samples, validate on 2000 samples\n",
      "Epoch 1/10\n",
      "113s - loss: 0.7088 - acc: 0.5825 - val_loss: 0.6021 - val_acc: 0.6910\n",
      "Epoch 2/10\n",
      "117s - loss: 0.5771 - acc: 0.7036 - val_loss: 0.5142 - val_acc: 0.7490\n",
      "Epoch 3/10\n",
      "119s - loss: 0.5290 - acc: 0.7375 - val_loss: 0.4792 - val_acc: 0.7640\n",
      "Epoch 4/10\n",
      "122s - loss: 0.4907 - acc: 0.7634 - val_loss: 0.4499 - val_acc: 0.7905\n",
      "Epoch 5/10\n",
      "119s - loss: 0.4641 - acc: 0.7792 - val_loss: 0.4120 - val_acc: 0.8125\n",
      "Epoch 6/10\n",
      "125s - loss: 0.4427 - acc: 0.7883 - val_loss: 0.4051 - val_acc: 0.8255\n",
      "Epoch 7/10\n",
      "138s - loss: 0.4164 - acc: 0.8069 - val_loss: 0.3679 - val_acc: 0.8420\n",
      "Epoch 8/10\n",
      "150s - loss: 0.3997 - acc: 0.8180 - val_loss: 0.3672 - val_acc: 0.8430\n",
      "Epoch 9/10\n",
      "145s - loss: 0.3852 - acc: 0.8275 - val_loss: 0.3560 - val_acc: 0.8400\n",
      "Epoch 10/10\n",
      "144s - loss: 0.3712 - acc: 0.8339 - val_loss: 0.3813 - val_acc: 0.8285\n",
      "Baseline Error: 17.15%\n"
     ]
    }
   ],
   "source": [
    "model1=network()\n",
    "model1.fit(x_train,y_train,validation_data=(x_test,y_test),nb_epoch=10,batch_size=200,verbose=2)\n",
    "\n",
    "scores = model1.evaluate(x_test,y_test,verbose=0)\n",
    "print(\"Baseline Error: %.2f%%\" %(100-scores[1]*100))"
   ]
  },
  {
   "cell_type": "code",
   "execution_count": 13,
   "metadata": {},
   "outputs": [],
   "source": [
    "def larger_model():\n",
    "    # create model\n",
    "    model = Sequential()\n",
    "    model.add(Convolution2D(30, 5, 5, border_mode='valid', input_shape=(1, 64, 64), activation='relu'))\n",
    "    model.add(MaxPooling2D(pool_size=(2, 2)))\n",
    "    model.add(Convolution2D(15, 3, 3, activation='relu'))\n",
    "    model.add(MaxPooling2D(pool_size=(2, 2)))\n",
    "    model.add(Dropout(0.2))\n",
    "    model.add(Flatten())\n",
    "    model.add(Dense(128, activation='relu'))\n",
    "    model.add(Dense(50, activation='relu'))\n",
    "    model.add(Dense(num_classes, activation='softmax'))\n",
    "    # Compile model\n",
    "    model.compile(loss='categorical_crossentropy', optimizer='adam', metrics=['accuracy'])\n",
    "    return model"
   ]
  },
  {
   "cell_type": "code",
   "execution_count": 14,
   "metadata": {},
   "outputs": [
    {
     "name": "stdout",
     "output_type": "stream",
     "text": [
      "Train on 20000 samples, validate on 2000 samples\n",
      "Epoch 1/10\n",
      "135s - loss: 0.6530 - acc: 0.6061 - val_loss: 0.5942 - val_acc: 0.6870\n",
      "Epoch 2/10\n",
      "134s - loss: 0.5876 - acc: 0.6885 - val_loss: 0.5608 - val_acc: 0.7035\n",
      "Epoch 3/10\n",
      "137s - loss: 0.5436 - acc: 0.7240 - val_loss: 0.5240 - val_acc: 0.7290\n",
      "Epoch 4/10\n",
      "135s - loss: 0.5041 - acc: 0.7512 - val_loss: 0.4708 - val_acc: 0.7790\n",
      "Epoch 5/10\n",
      "139s - loss: 0.4834 - acc: 0.7670 - val_loss: 0.4351 - val_acc: 0.7935\n",
      "Epoch 6/10\n",
      "130s - loss: 0.4515 - acc: 0.7881 - val_loss: 0.3921 - val_acc: 0.8190\n",
      "Epoch 7/10\n",
      "132s - loss: 0.4296 - acc: 0.8024 - val_loss: 0.3767 - val_acc: 0.8265\n",
      "Epoch 8/10\n",
      "125s - loss: 0.4132 - acc: 0.8130 - val_loss: 0.3468 - val_acc: 0.8440\n",
      "Epoch 9/10\n",
      "123s - loss: 0.3829 - acc: 0.8263 - val_loss: 0.3060 - val_acc: 0.8635\n",
      "Epoch 10/10\n",
      "141s - loss: 0.3542 - acc: 0.8420 - val_loss: 0.2685 - val_acc: 0.8915\n",
      "Baseline Error: 10.85%\n"
     ]
    }
   ],
   "source": [
    "model = larger_model()\n",
    "# Fit the model\n",
    "model.fit(x_train, y_train, validation_data=(x_test, y_test), nb_epoch=10, batch_size=200, verbose=2)\n",
    "# Final evaluation of the model\n",
    "scores = model.evaluate(x_test, y_test, verbose=0)\n",
    "print(\"Baseline Error: %.2f%%\" % (100-scores[1]*100))"
   ]
  },
  {
   "cell_type": "code",
   "execution_count": 15,
   "metadata": {},
   "outputs": [],
   "source": [
    "test1=prep_data(test_images)"
   ]
  },
  {
   "cell_type": "code",
   "execution_count": 17,
   "metadata": {},
   "outputs": [
    {
     "name": "stdout",
     "output_type": "stream",
     "text": [
      "(12500, 64, 64)\n"
     ]
    }
   ],
   "source": [
    "print test1.shape\n",
    "test_x= test1.swapaxes(1,2)"
   ]
  },
  {
   "cell_type": "code",
   "execution_count": 18,
   "metadata": {},
   "outputs": [],
   "source": [
    "test_X=test_x.reshape(test_x.shape[0],1,64,64).astype('float32')\n"
   ]
  },
  {
   "cell_type": "code",
   "execution_count": 19,
   "metadata": {},
   "outputs": [],
   "source": [
    "test_X=test_X/255"
   ]
  },
  {
   "cell_type": "code",
   "execution_count": 20,
   "metadata": {},
   "outputs": [],
   "source": [
    "p=model1.predict(test_X,batch_size=32,verbose=0)\n",
    "q=model.predict(test_X,batch_size=32,verbose=0)"
   ]
  },
  {
   "cell_type": "code",
   "execution_count": 61,
   "metadata": {},
   "outputs": [
    {
     "name": "stdout",
     "output_type": "stream",
     "text": [
      "[ 0.13338299  0.86661702]\n",
      "[ 0.06099266  0.93900734]\n"
     ]
    },
    {
     "data": {
      "text/plain": [
       "<matplotlib.image.AxesImage at 0x7f5d7328f850>"
      ]
     },
     "execution_count": 61,
     "metadata": {},
     "output_type": "execute_result"
    },
    {
     "data": {
      "image/png": "[encoded data removed]",
      "text/plain": [
       "<matplotlib.figure.Figure at 0x7f5d733f5c90>"
      ]
     },
     "metadata": {},
     "output_type": "display_data"
    }
   ],
   "source": [
    "i=6\n",
    "print p[i]\n",
    "print q[i]\n",
    "plt.subplot(221)\n",
    "plt.imshow(test_x[i],cmap=plt.get_cmap('gray'))"
   ]
  },
  {
   "cell_type": "code",
   "execution_count": 112,
   "metadata": {},
   "outputs": [
    {
     "name": "stdout",
     "output_type": "stream",
     "text": [
      "12500\n",
      "(12500,) (12500,) (12500,)\n"
     ]
    }
   ],
   "source": [
    "id=np.arange(1,12501)\n",
    "print id[12499]\n",
    "prob1=p[:,1]\n",
    "prob2=q[:,1]\n",
    "\n",
    "print id.shape,prob1.shape,prob2.shape"
   ]
  },
  {
   "cell_type": "code",
   "execution_count": 113,
   "metadata": {},
   "outputs": [],
   "source": [
    "prob1=prob1.reshape(12500,1)\n",
    "prob2=prob2.reshape(12500,1)\n",
    "id=id.reshape(12500,1)"
   ]
  },
  {
   "cell_type": "code",
   "execution_count": 114,
   "metadata": {},
   "outputs": [
    {
     "name": "stdout",
     "output_type": "stream",
     "text": [
      "(12500, 1) (12500, 1) (12500, 1)\n"
     ]
    }
   ],
   "source": [
    "print id.shape,prob1.shape,prob2.shape\n",
    "h=np.concatenate((id,prob1),axis=1)\n",
    "i=np.concatenate((id,prob2),axis=1)"
   ]
  },
  {
   "cell_type": "code",
   "execution_count": 115,
   "metadata": {},
   "outputs": [],
   "source": [
    "np.savetxt(\"CNN1.csv\",h,delimiter=\",\")\n",
    "np.savetxt(\"CNN2.csv\",i,delimiter=\",\")"
   ]
  },
  {
   "cell_type": "code",
   "execution_count": null,
   "metadata": {},
   "outputs": [],
   "source": []
  }
 ],
 "metadata": {
  "kernelspec": {
   "display_name": "Python 3",
   "language": "python",
   "name": "python3"
  },
  "language_info": {
   "codemirror_mode": {
    "name": "ipython",
    "version": 3
   },
   "file_extension": ".py",
   "mimetype": "text/x-python",
   "name": "python",
   "nbconvert_exporter": "python",
   "pygments_lexer": "ipython3",
   "version": "3.6.4"
  }
 },
 "nbformat": 4,
 "nbformat_minor": 1
}
